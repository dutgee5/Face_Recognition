{
 "cells": [
  {
   "cell_type": "code",
   "execution_count": 1,
   "id": "f16736d5",
   "metadata": {},
   "outputs": [],
   "source": [
    "import numpy as np\n",
    "import cv2"
   ]
  },
  {
   "cell_type": "code",
   "execution_count": 2,
   "id": "8a576345",
   "metadata": {},
   "outputs": [],
   "source": [
    "face_cas=cv2.CascadeClassifier(cv2.data.haarcascades+\"haarcascade_frontalface_default.xml\")\n",
    "eye_cas=cv2.CascadeClassifier(cv2.data.haarcascades +\"haarcascade_eye.xml.xml\")"
   ]
  },
  {
   "cell_type": "code",
   "execution_count": 3,
   "id": "cd4eef9f",
   "metadata": {},
   "outputs": [],
   "source": [
    "capture=cv2.VideoCapture(0)\n",
    "\n",
    "while True:\n",
    "    _,img=capture.read()\n",
    "    gray=cv2.cvtColor(img,cv2.COLOR_BGR2GRAY)\n",
    "    face=face_cas.detectMultiScale(gray,1.3,4)\n",
    "    \n",
    "    for(a,b,c,d) in face:\n",
    "        cv2.rectangle(img,(a,b),(a+c,b+d),(0,0,255),3)\n",
    "        roi_gray=gray[b:b+d, a:a+c]\n",
    "        roi_color=img[b:b+d, a:a+c]\n",
    "        \n",
    "    cv2.imshow(\"Yuz_Tanima\",img)\n",
    "    kapat=cv2.waitKey(30) &0xFF \n",
    "    if kapat==27:\n",
    "        break\n",
    "capture.release()\n",
    "cv2.destroyAllWindows()"
   ]
  },
  {
   "cell_type": "code",
   "execution_count": null,
   "id": "aef12e9f",
   "metadata": {},
   "outputs": [],
   "source": []
  },
  {
   "cell_type": "code",
   "execution_count": null,
   "id": "0173cd8f",
   "metadata": {},
   "outputs": [],
   "source": []
  }
 ],
 "metadata": {
  "kernelspec": {
   "display_name": "Python 3 (ipykernel)",
   "language": "python",
   "name": "python3"
  },
  "language_info": {
   "codemirror_mode": {
    "name": "ipython",
    "version": 3
   },
   "file_extension": ".py",
   "mimetype": "text/x-python",
   "name": "python",
   "nbconvert_exporter": "python",
   "pygments_lexer": "ipython3",
   "version": "3.9.7"
  }
 },
 "nbformat": 4,
 "nbformat_minor": 5
}
